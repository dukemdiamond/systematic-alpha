{
 "cells": [
  {
   "metadata": {},
   "cell_type": "markdown",
   "source": [
    "# # 1: A portfolio manager tracks daily returns of an index fund, which have historically shown a mean daily return of 0.05% and standard deviation of 1.2%.\n",
    "#       (a) Assuming daily returns are normally distributed, what is the probability of observing a daily loss greater than 2%?\n",
    "#       (b) Using the Central Limit Theorem, find the probability that the average daily return over the next 60 trading days exceeds 0.1%.\n",
    "#       c) What assumption about the daily returns is required for part (b) to be valid, and why might this assumption be problematic for financial returns?\n"
   ],
   "id": "1adc529eedff7c36"
  },
  {
   "metadata": {
    "ExecuteTime": {
     "end_time": "2025-10-15T01:21:48.610067Z",
     "start_time": "2025-10-15T01:21:48.606518Z"
    }
   },
   "cell_type": "code",
   "source": [
    "mean_daily_return = .0005\n",
    "std_dev = 0.012\n",
    "\n",
    "# A: Probability of observing a loss greater than 2%\n",
    "z = (.02 - mean_daily_return) / std_dev\n",
    "print(z)\n",
    "# Z table: 0.948545\n",
    "# Therefore, 1 - 0.948545 =\n",
    "probability = 1 - 0.948545\n",
    "print(f\"Probability of observing a daily loss greater than 2%: {probability:.5f}\")"
   ],
   "id": "bfe2eafcba7225c6",
   "outputs": [
    {
     "name": "stdout",
     "output_type": "stream",
     "text": [
      "1.625\n",
      "Probability of observing a daily loss greater than 2%: 0.05146\n"
     ]
    }
   ],
   "execution_count": 51
  },
  {
   "metadata": {
    "ExecuteTime": {
     "end_time": "2025-10-15T01:21:48.625323Z",
     "start_time": "2025-10-15T01:21:48.622824Z"
    }
   },
   "cell_type": "code",
   "source": [
    "# B: Use CLT to find the prob that the daily avg return over next 60 days exceeds .1%\n",
    "n = 60\n",
    "std_error = std_dev / (n ** .5)\n",
    "\n",
    "target = 0.001\n",
    "z_score = (target - mean_daily_return) / std_error\n",
    "print(f\"Z-score: {z_score:.4f}\") # .3227\n",
    "# Z table: ~ p= .62930\n",
    "probability_b = 1 - 0.62930\n",
    "print(f\"Probability that average daily return over 60 days exceeds 0.1%: {probability_b:.4f}\")"
   ],
   "id": "f470621f2aa95fec",
   "outputs": [
    {
     "name": "stdout",
     "output_type": "stream",
     "text": [
      "Z-score: 0.3227\n",
      "Probability that average daily return over 60 days exceeds 0.1%: 0.3707\n"
     ]
    }
   ],
   "execution_count": 52
  },
  {
   "metadata": {},
   "cell_type": "markdown",
   "source": [
    "## C: What assumption about the daily returns is required for part (b) to be valid, and why might this assumption be problematic for financial returns?\n",
    "##### It is assumed that events are independent of one another, and that all events have same probability distribution (mean, std dev). This is problematic for financial returns because markets are volatile- and a lot of the times not independent. Say one day there's a huge rise in the stock's price and a lot of institutional investing. The next day will likely follow as markets react to this- so they are not completely independent, as factors like this can cause momentum. Mean reversion is also something to consider; which is not accounted for if assuming independence over a certain period. Moreover, it is unrealistic that a equity will never be skewed in any direction, which is more common that one might think (ex: fat tails article / 08). Especially with regard to volatility, it is not always/ever constant, and changes even daily."
   ],
   "id": "67bead897c9e55eb"
  },
  {
   "metadata": {},
   "cell_type": "markdown",
   "source": [
    "## A portfolio contains 5 stocks. Historical data shows that on any given day, each stock has a 40% probability of closing higher than the previous day, independent of the others.\n",
    "#### (a) What type of discrete distribution describes the number of stocks that close higher on a given day?\n",
    "#### (b) What is the probability that exactly 3 out of 5 stocks close higher today?\n",
    "#### (c) What is the expected number of stocks that will close higher? What is the variance?"
   ],
   "id": "1e99a7e7e8acbe95"
  },
  {
   "metadata": {},
   "cell_type": "markdown",
   "source": "",
   "id": "432f0b91c1c0427"
  },
  {
   "metadata": {
    "ExecuteTime": {
     "end_time": "2025-10-15T01:21:48.643643Z",
     "start_time": "2025-10-15T01:21:48.641178Z"
    }
   },
   "cell_type": "code",
   "source": [
    "import math\n",
    "#### (a) What type of discrete distribution describes the number of stocks that close higher on a given day?\n",
    "# I would say it's binomial, as either it closes higher than the previous day or it doesn't (success/fail)\n",
    "\n",
    "#### (b) What is the probability that exactly 3 out of 5 stocks close higher today?\n",
    "n=5\n",
    "k = 3\n",
    "p_success = 0.4\n",
    "p_fail = 0.6\n",
    "comb = math.factorial(5) / (math.factorial(3) * math.factorial(2))\n",
    "prob_3_of_5 = comb * (p_success ** k) * ((1 - p_success) ** (n - k))\n",
    "print(f\"Probability 3 of 5 stocks close higher: {prob_3_of_5:.3f}\")\n",
    "\n",
    "## (c) What is the expected number of stocks that will close higher? What is the variance?\n",
    "ev = n * p_success\n",
    "std_dev = (n * p_success * (1 - p_success)) ** 0.5\n",
    "variance = std_dev ** 2\n",
    "print(f\" Expected # of stocks that will close higher: {ev} \\n\"\n",
    "      f\"Variance: {variance:.3f} \")"
   ],
   "id": "e8d8a7db7aed9aa7",
   "outputs": [
    {
     "name": "stdout",
     "output_type": "stream",
     "text": [
      "Probability 3 of 5 stocks close higher: 0.230\n",
      " Expected # of stocks that will close higher: 2.0 \n",
      "Variance: 1.200 \n"
     ]
    }
   ],
   "execution_count": 53
  },
  {
   "metadata": {},
   "cell_type": "markdown",
   "source": [
    "### a) The portfolio return for each day\n",
    "### b) The average portfolio return over the 5-day period\n",
    "### c) If you started with $1,000,000, what's your portfolio value after 5 days?"
   ],
   "id": "4b2dc43b5a5a2d4c"
  },
  {
   "metadata": {
    "ExecuteTime": {
     "end_time": "2025-10-15T01:21:48.652223Z",
     "start_time": "2025-10-15T01:21:48.648659Z"
    }
   },
   "cell_type": "code",
   "source": [
    "import numpy as np\n",
    "w = np.array([0.4, 0.35, 0.25]) # 1x3 ->\n",
    "R = np.array([\n",
    "    [0.02, -0.01, 0.03],\n",
    "    [0.01, 0.02, -0.02],\n",
    "    [-0.03, 0.01, 0.04],\n",
    "    [0.02, 0.00, 0.01],\n",
    "    [0.01, 0.03, -0.01]\n",
    "]) # 5x3\n",
    "n = 5\n",
    "daily_returns = np.dot(R,w)\n",
    "total = 0\n",
    "for i, ret in enumerate(daily_returns):\n",
    "    print(f\"Daily Return on Day {i + 1}: {ret:.3f}\")\n",
    "    total += ret\n"
   ],
   "id": "1f391322a2dd4b16",
   "outputs": [
    {
     "name": "stdout",
     "output_type": "stream",
     "text": [
      "Daily Return on Day 1: 0.012\n",
      "Daily Return on Day 2: 0.006\n",
      "Daily Return on Day 3: 0.001\n",
      "Daily Return on Day 4: 0.011\n",
      "Daily Return on Day 5: 0.012\n"
     ]
    }
   ],
   "execution_count": 54
  },
  {
   "metadata": {
    "ExecuteTime": {
     "end_time": "2025-10-15T01:21:48.665429Z",
     "start_time": "2025-10-15T01:21:48.663845Z"
    }
   },
   "cell_type": "code",
   "source": [
    "#B avg portfolio return over 5 year period\n",
    "avg = total / n\n",
    "print(f\"Average return over 5 day period: {avg}\")"
   ],
   "id": "2fcc5b19b56a7d5a",
   "outputs": [
    {
     "name": "stdout",
     "output_type": "stream",
     "text": [
      "Average return over 5 day period: 0.0084\n"
     ]
    }
   ],
   "execution_count": 55
  },
  {
   "metadata": {
    "ExecuteTime": {
     "end_time": "2025-10-15T01:21:48.675704Z",
     "start_time": "2025-10-15T01:21:48.674021Z"
    }
   },
   "cell_type": "code",
   "source": [
    "#C: starting with $1,000,000\n",
    "cash_money = 1000000\n",
    "returns = (cash_money * avg)\n",
    "portfolio_value = cash_money + returns\n",
    "print(f\"Portfolio value after 5 days: {portfolio_value:.2f}\")"
   ],
   "id": "e4a85be468f7db90",
   "outputs": [
    {
     "name": "stdout",
     "output_type": "stream",
     "text": [
      "Portfolio value after 5 days: 1008400.00\n"
     ]
    }
   ],
   "execution_count": 56
  },
  {
   "metadata": {},
   "cell_type": "markdown",
   "source": [
    "## Given a portfolio of 4 assets (with position sizes in millions):\n",
    "#####  a) The net position value and gross position value using vector norms\n",
    "\n",
    "##### b) The average daily volatility for each asset (hint: use matrix operations, not just averaging)"
   ],
   "id": "6f7745595913f8c"
  },
  {
   "metadata": {
    "ExecuteTime": {
     "end_time": "2025-10-15T01:21:48.693685Z",
     "start_time": "2025-10-15T01:21:48.690903Z"
    }
   },
   "cell_type": "code",
   "source": [
    "p = np.array([50, -30, 40, -20])\n",
    "\n",
    "V = np.array([\n",
    "    [0.015, 0.020, 0.012, 0.025],\n",
    "    [0.018, 0.022, 0.010, 0.028],\n",
    "    [0.020, 0.019, 0.014, 0.030],\n",
    "    [0.016, 0.021, 0.011, 0.026]\n",
    "])\n",
    "\n",
    "rho = np.array([\n",
    "    [1.0,   0.7, -0.4,  0.5],\n",
    "    [0.7,   1.0, -0.2,  0.6],\n",
    "    [-0.4, -0.2,  1.0, -0.3],\n",
    "    [0.5,   0.6, -0.3,  1.0]\n",
    "])\n",
    "\n",
    "# A: Net position value and gross position value using vector norms\n",
    "net_pos = np.sum(p)\n",
    "print(f\"Net position value: {net_pos}\")\n",
    "gross = np.linalg.norm(p, 1)\n",
    "print(f\"Gross position value: {gross}\")"
   ],
   "id": "411e4bd9eeb8a556",
   "outputs": [
    {
     "name": "stdout",
     "output_type": "stream",
     "text": [
      "Net position value: 40\n",
      "Gross position value: 140.0\n"
     ]
    }
   ],
   "execution_count": 57
  },
  {
   "metadata": {},
   "cell_type": "markdown",
   "source": [
    "### a) Calculate the \"fair value\" of each ETF\n",
    "\n",
    "### b) Find the mispricing vector: m = e - f\n",
    "\n"
   ],
   "id": "e84cb4df188f9f64"
  },
  {
   "metadata": {
    "ExecuteTime": {
     "end_time": "2025-10-15T01:21:48.704306Z",
     "start_time": "2025-10-15T01:21:48.702074Z"
    }
   },
   "cell_type": "code",
   "source": [
    "A = np.array([\n",
    "    [0.5, 0.3, 0.2],\n",
    "    [0.3, 0.4, 0.3],\n",
    "    [0.4, 0.2, 0.4]\n",
    "])\n",
    "\n",
    "s = np.array([100, 150, 80])\n",
    "\n",
    "e = np.array([115, 116, 108])\n",
    "\n",
    "# A: Fair value\n",
    "fair_value = A @ s\n",
    "for i, fv in enumerate(fair_value):\n",
    "    print(f\"ETF {i+1} Fair value: ${fv:.2f}\")"
   ],
   "id": "f99996dae0500489",
   "outputs": [
    {
     "name": "stdout",
     "output_type": "stream",
     "text": [
      "ETF 1 Fair value: $111.00\n",
      "ETF 2 Fair value: $114.00\n",
      "ETF 3 Fair value: $102.00\n"
     ]
    }
   ],
   "execution_count": 58
  },
  {
   "metadata": {
    "ExecuteTime": {
     "end_time": "2025-10-15T01:21:48.776138Z",
     "start_time": "2025-10-15T01:21:48.774318Z"
    }
   },
   "cell_type": "code",
   "source": [
    "# B: mispricing\n",
    "mispricing = e - fair_value\n",
    "print(mispricing)"
   ],
   "id": "52a0391731e4bf6",
   "outputs": [
    {
     "name": "stdout",
     "output_type": "stream",
     "text": [
      "[4. 2. 6.]\n"
     ]
    }
   ],
   "execution_count": 59
  }
 ],
 "metadata": {
  "kernelspec": {
   "display_name": "Python 3",
   "language": "python",
   "name": "python3"
  },
  "language_info": {
   "codemirror_mode": {
    "name": "ipython",
    "version": 2
   },
   "file_extension": ".py",
   "mimetype": "text/x-python",
   "name": "python",
   "nbconvert_exporter": "python",
   "pygments_lexer": "ipython2",
   "version": "2.7.6"
  }
 },
 "nbformat": 4,
 "nbformat_minor": 5
}
