{
 "cells": [
  {
   "metadata": {},
   "cell_type": "markdown",
   "source": [
    "# Asset Classes\n",
    "### 1: If Apple's stock price rises 10% but its P/E ratio stays the same, what must have happened to Apple's earnings?\n",
    "\n",
    "Since P/E is calculated by: Stock Price / Earnings Per Share, I think that if the ratio stayed the same, the earnings must have increased per share by 10% as well.\n",
    "\n",
    "If both increased 10% (stock price & earnings), the P/E would stay the same.\n",
    "\n",
    "### 2: If the US has 4% interest rates and Japan has 1% rates, should the USD strengthen or weaken against the JPY over time, and why?\n",
    "\n",
    "The dollar will strengthen as it will increase demand for the dollar (higher yield to potential investors), and with increased demand, more currency will be exchanged / sought after, which will make it appreciate.\n",
    "\n",
    "\n",
    "### 3: Oil futures are trading $2 above the spot price. What does this \"contango\" situation tell us about the oil supply situation?\n",
    "\n",
    "I think this might mean that there is a current oversupply / oil is pretty regularly available compared to its' supply in the future.\n",
    "\n",
    "### 4: If a stock's implied volatility increases but the stock price stays the same, what happens to both call and put option prices?\n",
    "High IV without a change of stock price indicates more expensive options prices, as it there are greater fluctuations expected for that equity (in either direction)\n",
    "\n",
    "\n",
    "\n",
    "\n"
   ],
   "id": "7f9553f139cdc280"
  },
  {
   "metadata": {},
   "cell_type": "markdown",
   "source": [
    "## Options\n",
    "### 1: If options don’t guarantee ownership, why might someone choose them over buying the actual stock?\n",
    "Options can be leveraged more and potentially lead to more profit. An example we went over in class showcased this - the upside of signing an options contract and profiting off a stock price fluctuation is much more relative to holding that same stock long. The premium is a price people are willing to pay given the upside; along with the fact that you can only lose 100% of that premium you pay. These contracts are usually 100-share as well giving leverage opportunity (much more money & bottom line).\n",
    "\n",
    "### 2: How can an option with no intrinsic value have a high market price?\n",
    "An option with no intrinsic value can have a high market price due to its extrinsic value - for example, the market could be very volatile so there is potential for that option to be 'in the money' in the future\n",
    "\n",
    "### 3: Why/how does embedded leverage in options make them riskier than buying the stock outright?\n",
    "Embedded leverage can make options riskier than simply buying the stock as an option contract price may be more than the stock itself, therefore risking more money than the stock. Say an equity is trading at \\\\$100, but a call option is \\\\$2 a share, so a contract would be $200. You can lose 100% of that premium if the strike price is never reached, which is more than the stock price. It is also uncommon for a stock to lose 100% of its value; meaning that\n",
    "### 4: If the BSM model is so widely used, why do traders still find mispriced options?\n",
    "There are still mispriced options as the BSM is based off of assumptions, which the market might not always agree with. For example, it assumes volatility is always constant, which is evidently untrue in the market sometimes. This allows for mispriced option opportunities."
   ],
   "id": "2154f5369c420ffe"
  }
 ],
 "metadata": {
  "kernelspec": {
   "display_name": "Python 3",
   "language": "python",
   "name": "python3"
  },
  "language_info": {
   "codemirror_mode": {
    "name": "ipython",
    "version": 2
   },
   "file_extension": ".py",
   "mimetype": "text/x-python",
   "name": "python",
   "nbconvert_exporter": "python",
   "pygments_lexer": "ipython2",
   "version": "2.7.6"
  }
 },
 "nbformat": 4,
 "nbformat_minor": 5
}
