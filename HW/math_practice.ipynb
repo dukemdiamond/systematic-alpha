{
 "cells": [
  {
   "metadata": {},
   "cell_type": "markdown",
   "source": [
    "## A pizza parlor offers 10 toppings.\n",
    "- How many 3-topping pizzas could they put on their menu? Assume double toppings are not allowed.\n",
    "- How many total pizzas are possible, with between zero and ten toppings (but not double toppings) allowed?\n",
    "- The pizza parlor will list the 10 toppings in two equal-sized columns on their menu. How many ways can they arrange the toppings in the left column?\n"
   ],
   "id": "da28570346890d89"
  },
  {
   "metadata": {},
   "cell_type": "code",
   "source": [
    "import math\n",
    "# How many 3 topping pizzas could they put on their menu? Double of same toppings are not allowed.\n",
    "# Thought process: Should be out of 10 choose 3.\n",
    "def combination(n, k):\n",
    "    return math.factorial(n) / (math.factorial(k) * math.factorial(n - k))\n",
    "\n",
    "# 3 Topping Pizza\n",
    "print(f\" Ways to make a 3 toppings: {combination(10, 3)}\")"
   ],
   "id": "7a07bc3ae56af311",
   "outputs": [],
   "execution_count": null
  },
  {
   "metadata": {},
   "cell_type": "code",
   "source": [
    "# How many total pizzas are possible, with between zero and ten (but not double) allowed?\n",
    "# There are two outcomes: topping on pizza, or not. So thats 2^10.\n",
    "print(f\" Total possible pizzas: {2**10}\")"
   ],
   "id": "a314ab794c6be32f",
   "outputs": [],
   "execution_count": null
  },
  {
   "metadata": {},
   "cell_type": "code",
   "source": [
    "# Two equal sized columns on menu, how many ways can they be arranged in the left?\n",
    "def permutation(n, k):\n",
    "    return math.factorial(n) / math.factorial(n - k)\n",
    "print(f\"Ways to be arranged in left: {permutation(10,5)}\")"
   ],
   "id": "2cdb399df09fc3",
   "outputs": [],
   "execution_count": null
  },
  {
   "metadata": {},
   "cell_type": "markdown",
   "source": "## Suppose you have 12 chips, each a different color. How many different stacks of 5 chips can you make?",
   "id": "88dbe2b113a4be60"
  },
  {
   "metadata": {},
   "cell_type": "code",
   "source": [
    "# all diff colors\n",
    "# n = 12\n",
    "# how many diff stacks of 5?\n",
    "print(f\" Ways to stack 5 chips: {permutation(12,5)}\")"
   ],
   "id": "2d776cee37f8aab6",
   "outputs": [],
   "execution_count": null
  },
  {
   "metadata": {},
   "cell_type": "markdown",
   "source": "## A bag contains 4 red marbles and 6 blue marbles. Find the probability of drawing two blue marbles in a row, without replacing the first marble.\n",
   "id": "55a81c2ba888b215"
  },
  {
   "metadata": {
    "ExecuteTime": {
     "end_time": "2025-10-29T21:57:32.676255Z",
     "start_time": "2025-10-29T21:57:32.669856Z"
    }
   },
   "cell_type": "code",
   "source": [
    "# Two marbles in a row, dont replace first, replace second.\n",
    "# First marble probability:\n",
    "p_first_blue = 6/10\n",
    "p_second_blue = 5/9\n",
    "# Mult principle\n",
    "print(f\"Probability of drawing two blue in a row: {(p_second_blue * p_first_blue) * 100}% \")"
   ],
   "id": "6c4287e3616f041b",
   "outputs": [
    {
     "name": "stdout",
     "output_type": "stream",
     "text": [
      "Probability of drawing two blue in a row: 33.33333333333333% \n"
     ]
    }
   ],
   "execution_count": 11
  },
  {
   "metadata": {},
   "cell_type": "markdown",
   "source": "## At an ice cream parlor you are presented with 10 toppings to choose from. How many different combos of ice cream toppings can you create? Assume you need at least 1 topping.",
   "id": "e0cd8e0fd0efdbd5"
  },
  {
   "metadata": {},
   "cell_type": "code",
   "source": [
    "# Must have one topping atleast.\n",
    "# We are choosing at least one, then the rest it's yes or no. So it's 2 decisions, but we have to exclude one of them (all no).\n",
    "p_topping_combos = 2 ** 10\n",
    "print(f\"Combos of ice cream toppings: {p_topping_combos - 1} \")"
   ],
   "id": "ee6849688b2957eb",
   "outputs": [],
   "execution_count": null
  },
  {
   "metadata": {},
   "cell_type": "markdown",
   "source": "## You throw 3 fair dice consecutively. What is the probability that you obtain three numbers in strictly increasing order?\n",
   "id": "789f39c3aecc1a18"
  },
  {
   "metadata": {},
   "cell_type": "code",
   "source": [
    "# Three #s in strictly increasing order\n",
    "# This is conditional.\n",
    "total = 6 ** 3\n",
    "success = combination(6,3)\n",
    "p = success / total\n",
    "print(f\"Probability: {p}\")"
   ],
   "id": "8af00b4114fc66f",
   "outputs": [],
   "execution_count": null
  },
  {
   "metadata": {},
   "cell_type": "markdown",
   "source": "## You place 3 dots along the edges of an octagon at random. What is the probability that all three dots lie on distinct edges of the octagon?",
   "id": "d68979cee039c0bd"
  },
  {
   "metadata": {},
   "cell_type": "code",
   "source": [
    "# distinct edges\n",
    "# first is always distinct = 100%\n",
    "# 2nd, 7 choices\n",
    "# 3rd. 6 choices\n",
    "total = 8 ** 3\n",
    "success = 8 * 7 * 6\n",
    "p = success / total\n",
    "print(f\"Probability: {p}\")"
   ],
   "id": "837bba5154ba95eb",
   "outputs": [],
   "execution_count": null
  },
  {
   "metadata": {},
   "cell_type": "markdown",
   "source": "## Find the number of ways to arrange the letters in the word SYSTEMATIC\n",
   "id": "309eb9ed605c5a56"
  },
  {
   "metadata": {
    "ExecuteTime": {
     "end_time": "2025-10-30T04:42:56.875323Z",
     "start_time": "2025-10-30T04:42:56.870995Z"
    }
   },
   "cell_type": "code",
   "source": [
    "n = 10\n",
    "s = 2\n",
    "t = 2\n",
    "print(f\"# of ways to arrange: {math.factorial(n) / (math.factorial(s) * math.factorial(t))}\")"
   ],
   "id": "179021a974980d8e",
   "outputs": [
    {
     "name": "stdout",
     "output_type": "stream",
     "text": [
      "# of ways to arrange: 907200.0\n"
     ]
    }
   ],
   "execution_count": 19
  },
  {
   "metadata": {},
   "cell_type": "markdown",
   "source": [
    "## A standard deck of 52 cards is shuffled thoroughly. You draw one card, record its suit, and return it to the deck. This process is repeated three times.\n",
    "- What is the probability that: All three cards drawn are of the same suit?\n",
    "- At least one card drawn is a heart?\n"
   ],
   "id": "a3d8da85a523c648"
  },
  {
   "metadata": {
    "ExecuteTime": {
     "end_time": "2025-10-30T04:46:25.494638Z",
     "start_time": "2025-10-30T04:46:25.484481Z"
    }
   },
   "cell_type": "code",
   "source": [
    "# A: All three cards drawn are same suit?\n",
    "# first: 100% second: 13/52 3rd: 13/52\n",
    "p = (1/4) ** 3\n",
    "print(f\"Probability: {p}\")\n",
    "\n",
    "# B: at least one is a heart\n",
    "# Account for not drawing a heart\n",
    "p_not_heart = 3/4\n",
    "p_no_hearts = (p_not_heart) ** 3\n",
    "p_at_least_one = 1 - p_no_hearts\n",
    "print(f\"Probability: {p_at_least_one}\")\n"
   ],
   "id": "36dce158f6d88dcc",
   "outputs": [
    {
     "name": "stdout",
     "output_type": "stream",
     "text": [
      "Probability: 0.015625\n",
      "Probability: 0.578125\n"
     ]
    }
   ],
   "execution_count": 20
  }
 ],
 "metadata": {
  "kernelspec": {
   "display_name": "Python 3",
   "language": "python",
   "name": "python3"
  },
  "language_info": {
   "codemirror_mode": {
    "name": "ipython",
    "version": 2
   },
   "file_extension": ".py",
   "mimetype": "text/x-python",
   "name": "python",
   "nbconvert_exporter": "python",
   "pygments_lexer": "ipython2",
   "version": "2.7.6"
  }
 },
 "nbformat": 4,
 "nbformat_minor": 5
}
