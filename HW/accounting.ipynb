{
 "cells": [
  {
   "cell_type": "code",
   "id": "initial_id",
   "metadata": {
    "collapsed": true,
    "ExecuteTime": {
     "end_time": "2025-10-08T02:07:11.593338Z",
     "start_time": "2025-10-08T02:07:11.582799Z"
    }
   },
   "source": [
    "# Current year (Year 0) FCFF: $100M\n",
    "# FCFF growth rates:\n",
    "# Years 1-3: 20% annually\n",
    "# Years 4-5: 15% annually\n",
    "# Terminal growth rate (g): 3%\n",
    "# WACC: 10%\n",
    "# Net Debt: $300 million\n",
    "# Shares outstanding: 50 million\n",
    "\n",
    "def fcff(years, growth_rate, curr_fcff):\n",
    "    \"\"\"\n",
    "    Calculates FCFF for # years\n",
    "\n",
    "    :param years: number of years to project\n",
    "    :param growth_rate: the annual growth rate\n",
    "    :param curr_fcff: current FCFF (y0)\n",
    "    :return: list of projected FCFF values\n",
    "    \"\"\"\n",
    "    cashflow_list = []\n",
    "    fcff_value = curr_fcff\n",
    "\n",
    "    for i in range(years):\n",
    "        fcff_value = fcff_value * (1 + growth_rate)\n",
    "        cashflow_list.append(fcff_value)\n",
    "\n",
    "    return cashflow_list\n",
    "\n",
    "fcff(3, 0.2, 100)\n",
    "\n",
    "def dcf_model():\n",
    "    curr_fcff = 100  # In millions\n",
    "    wacc = 0.10\n",
    "    terminal_growth = 0.03\n",
    "    net_debt = 300  # Millions\n",
    "    shares_outstanding = 50  # Millions\n",
    "\n",
    "    # find fcff\n",
    "    fcff_y1_to_y3 = fcff(3, .20, 100)\n",
    "    fcff_y4_to_y5 = fcff(2, 0.15, fcff_y1_to_y3[-1])\n",
    "\n",
    "    fcff_y6 = fcff_y4_to_y5[-1] * (1 + terminal_growth)\n",
    "    all_fcff = fcff_y1_to_y3 + fcff_y4_to_y5\n",
    "\n",
    "    print(f\" FCFF Y1-5{all_fcff}\")\n",
    "    tv = fcff_y6 / (wacc - terminal_growth)\n",
    "\n",
    "    print(f\"TV: {tv:.3f}\")\n",
    "\n",
    "    pv_fcff = sum([cf / (1 + wacc)**(i+1) for i, cf in enumerate(all_fcff)])\n",
    "\n",
    "    print(f\"PV FCFF: {pv_fcff:.3f}\")\n",
    "    pv_terminal = tv / (1 + wacc)**5\n",
    "    print(f\"PV TV: {pv_terminal:.3f}\")\n",
    "    enterprise_value = pv_fcff + pv_terminal\n",
    "    print(f\"EV: {enterprise_value:.3f}\")\n",
    "    equity_value = enterprise_value - net_debt\n",
    "    print(f\"Equity Value: {equity_value:.3f}\")\n",
    "    price_per_share = equity_value / shares_outstanding\n",
    "    print(f\"PPS: {price_per_share:.3f}\")\n",
    "\n",
    "dcf_model()\n",
    "\n",
    "def equity_stats():\n",
    "    purchase_price = 800 # mill\n",
    "    debt = 600 # mill\n",
    "    equity = 200 # mill\n",
    "    years_outstanding = 8\n",
    "    exit_value = 1200\n",
    "    remaining_debt = 300\n",
    "\n",
    "    equity_proceeds = exit_value - remaining_debt\n",
    "    equity_multiple = equity_proceeds / equity\n",
    "\n",
    "    irr = (equity_multiple ** (1/years_outstanding)) - 1\n",
    "    return {\n",
    "        'equity_proceeds': equity_proceeds,\n",
    "        'equity_multiple': equity_multiple,\n",
    "        'irr': (irr * 100)\n",
    "    }\n",
    "\n",
    "equity_stats()\n",
    "\n",
    "\n"
   ],
   "outputs": [
    {
     "name": "stdout",
     "output_type": "stream",
     "text": [
      " FCFF Y1-5[120.0, 144.0, 172.79999999999998, 198.71999999999997, 228.52799999999993]\n",
      "TV: 3362.6262857142847\n",
      "PV FCFF: 635.553\n",
      "PV TV: 2087.926\n",
      "EV: 2723.479\n",
      "Equity Value: 2423.479\n",
      "PPS: 48.470\n"
     ]
    },
    {
     "data": {
      "text/plain": [
       "{'equity_proceeds': 900, 'equity_multiple': 4.5, 'irr': 20.684519103403254}"
      ]
     },
     "execution_count": 10,
     "metadata": {},
     "output_type": "execute_result"
    }
   ],
   "execution_count": 10
  },
  {
   "metadata": {},
   "cell_type": "markdown",
   "source": "",
   "id": "f69b70f2b0afa0a8"
  },
  {
   "metadata": {},
   "cell_type": "code",
   "outputs": [],
   "execution_count": null,
   "source": "",
   "id": "82a2549cbaa3da6e"
  }
 ],
 "metadata": {
  "kernelspec": {
   "display_name": "Python 3",
   "language": "python",
   "name": "python3"
  },
  "language_info": {
   "codemirror_mode": {
    "name": "ipython",
    "version": 2
   },
   "file_extension": ".py",
   "mimetype": "text/x-python",
   "name": "python",
   "nbconvert_exporter": "python",
   "pygments_lexer": "ipython2",
   "version": "2.7.6"
  }
 },
 "nbformat": 4,
 "nbformat_minor": 5
}
