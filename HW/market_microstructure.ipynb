{
 "cells": [
  {
   "metadata": {},
   "cell_type": "markdown",
   "source": [
    "## If volume doesn’t always represent real liquidity, how can traders truly know whether or not they can get in or out of a position?\n",
    "- I read this ([Link](https://www.financialresearch.gov/the-ofr-blog/2025/06/05/does-off-exchange-trading-affect-prices-and-liquidity-on-exchanges/))\n",
    "and it was interesting to know that now the majority of trading is off-exchange. This means that it could be hard to directly say volume is\n",
    "very indicative of liquidity. Although, it can be correlated on each ends, as generally high/low volume shows the nature of the liquidity.\n",
    "\n",
    "- I think the Bid Ask spread will also be another indicator of liquidity. Since this is the market-makers profit, if the spread is small, then there is more liquidity. If it's a higher spread, then there are less 'willing buyers/sellers', which shows liquidity.\n",
    "\n",
    "- It still seems hard to 'truly know' whether or not to get in / out of a position, but a lot of equities have very high floats so it seems less likely you will be left to hang dry. Indicators like volume and bid ask spread, and even looking at volume of option orders could help make a more informed decision.\n",
    "\n",
    "## How might execution algorithms like VWAP or TWAP unintentionally move the market - and how can traders prevent that?\n",
    "- They could move the market for multiple reasons, because they are predictable. Say you use the TWAP strategy to buy shares every 5 minutes. Other firms could pick up on this and purchase ahead, which effectively jacks the price up for your remaining shares. I think for traders to prevent this they have to be less predictable- use different sizing, timing, etc. Must also assess the slippage as it comes.\n",
    "\n",
    "## Should all investors, including retail, be taught how slippage affects performance - or is it only relevant to professionals?\n",
    "- Yes, as slippage effects returns, so if you're an active trader, it will end up adding up over time. It's important to know this and it also teaches retail investors why orders can get filled at a higher price than they anticipated. This can help with decision making and understanding what orders to make."
   ],
   "id": "a32a8ab41f211070"
  },
  {
   "metadata": {},
   "cell_type": "markdown",
   "source": [
    "# What is one advantage of using an exchange vs using a dark pool?\n",
    "- One advantage of an exchange is effect on the market. Say you're a firm and you want to make a heavy investment in a company, so you buy many shares. If public (through an exchange), it can speak numbers to your company vision, etc, which wouldn't be possible in a dark pool."
   ],
   "id": "ccedfb1a0bacdbb1"
  },
  {
   "metadata": {},
   "cell_type": "markdown",
   "source": [
    "# What is price improvement? Provide a simple example.\n",
    "- Price improvement is when you get a better price than the NBBO. An example of this could be: NBBO (Bid: 1.00 | Ask: 1.10), you submit a market order (buy), and it's executed at 1.05. This is price improvement.\n",
    "-"
   ],
   "id": "c1d4c6aa9e9eb94"
  },
  {
   "metadata": {},
   "cell_type": "markdown",
   "source": [
    "# How do market makers benefit from volatility? Give a tangible example using bid-ask spread.\n",
    "- Volatility will create increased risk, but that effectively widens their bid-ask spread. Bigger spread = more profit.\n",
    "- Say a equity is super volatile and the quotes for the MM are (bid) 99.9 / (ask) 100.1. Say on a regular day here spread is only .05. On a volatile day, it is 0.20, and they can capture this spread and make lots of profit."
   ],
   "id": "1085dad5fd03cd5a"
  }
 ],
 "metadata": {
  "kernelspec": {
   "display_name": "Python 3",
   "language": "python",
   "name": "python3"
  },
  "language_info": {
   "codemirror_mode": {
    "name": "ipython",
    "version": 2
   },
   "file_extension": ".py",
   "mimetype": "text/x-python",
   "name": "python",
   "nbconvert_exporter": "python",
   "pygments_lexer": "ipython2",
   "version": "2.7.6"
  }
 },
 "nbformat": 4,
 "nbformat_minor": 5
}
