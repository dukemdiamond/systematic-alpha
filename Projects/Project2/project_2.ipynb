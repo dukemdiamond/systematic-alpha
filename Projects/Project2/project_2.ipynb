{
 "cells": [
  {
   "metadata": {},
   "cell_type": "markdown",
   "source": "## Data Preparation",
   "id": "c38042ee037c9fb"
  },
  {
   "metadata": {
    "ExecuteTime": {
     "end_time": "2025-10-28T20:28:11.075111Z",
     "start_time": "2025-10-28T20:28:11.051477Z"
    }
   },
   "cell_type": "code",
   "source": [
    "# Load cleaned data\n",
    "import pandas as pd\n",
    "from Projects.Project1.project_1 import data_dict, returns_df\n",
    "\n",
    "data = data_dict\n",
    "\n",
    "# Test w/ a ticker\n",
    "data_dict['AMD'].head()\n",
    "# Assign returns\n",
    "returns = returns_df\n",
    "\n"
   ],
   "id": "ce3d787841a9c7e8",
   "outputs": [],
   "execution_count": 10
  },
  {
   "metadata": {},
   "cell_type": "markdown",
   "source": "## Modeling (Mean Variance Portfolio Optimizer)",
   "id": "b7643969962686df"
  },
  {
   "metadata": {
    "collapsed": true,
    "ExecuteTime": {
     "end_time": "2025-10-28T19:59:30.867200Z",
     "start_time": "2025-10-28T19:59:30.861856Z"
    }
   },
   "cell_type": "code",
   "source": [
    "# Expected returns annualized\n",
    "expected_returns = returns.mean() * 252 # 252 trading days\n",
    "\n",
    "# Covariance matrix\n",
    "cov = returns.cov() * 252\n",
    "\n",
    "print(cov)\n",
    "def mean_variance_optimizer(expected_return, covariance, target_return):\n",
    "    '''\n",
    "    Optimizes a set of equities in a portfolio by following Markowitz' portfolio theory.\n",
    "\n",
    "    :param expected_return: the expected return of all of your assets (mean)\n",
    "    :param covariance: a covariance matrix of the equities you want to see\n",
    "    :param target_return: scalar (double) the return you want (threshold for portfolio)\n",
    "\n",
    "    :return: weights: Dictionary of asset ticker (str) -> weight (float) which shows the optimal # given the target return\n",
    "    '''\n",
    "\n"
   ],
   "id": "initial_id",
   "outputs": [
    {
     "name": "stdout",
     "output_type": "stream",
     "text": [
      "           TSM      NVDA       AMD      INTC      ORCL\n",
      "TSM   0.178085  0.155855  0.150132  0.068213  0.126840\n",
      "NVDA  0.155855  0.243326  0.165490  0.105535  0.158378\n",
      "AMD   0.150132  0.165490  0.345099  0.121346  0.113017\n",
      "INTC  0.068213  0.105535  0.121346  0.401393  0.075904\n",
      "ORCL  0.126840  0.158378  0.113017  0.075904  0.347625\n"
     ]
    }
   ],
   "execution_count": 9
  }
 ],
 "metadata": {
  "kernelspec": {
   "display_name": "Python 3",
   "language": "python",
   "name": "python3"
  },
  "language_info": {
   "codemirror_mode": {
    "name": "ipython",
    "version": 2
   },
   "file_extension": ".py",
   "mimetype": "text/x-python",
   "name": "python",
   "nbconvert_exporter": "python",
   "pygments_lexer": "ipython2",
   "version": "2.7.6"
  }
 },
 "nbformat": 4,
 "nbformat_minor": 5
}
