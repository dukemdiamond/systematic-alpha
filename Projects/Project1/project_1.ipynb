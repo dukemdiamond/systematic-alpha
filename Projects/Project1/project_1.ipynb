{
 "cells": [
  {
   "metadata": {},
   "cell_type": "markdown",
   "source": "## Libraries & necessary pre-code",
   "id": "eca3b0ace31a4391"
  },
  {
   "metadata": {
    "ExecuteTime": {
     "end_time": "2025-10-24T17:57:18.136140Z",
     "start_time": "2025-10-24T17:57:18.120163Z"
    }
   },
   "cell_type": "code",
   "source": [
    "import yfinance as yf\n",
    "import pandas as pd\n",
    "import numpy as np\n",
    "import warnings\n",
    "\n",
    "from Projects.Assesment.completed_nusa_fa_25_assesment_duke import end_date\n",
    "\n",
    "warnings.filterwarnings('ignore')"
   ],
   "id": "ef6991ae642062af",
   "outputs": [
    {
     "ename": "ModuleNotFoundError",
     "evalue": "No module named 'Projects.Assesment.completed_nusa_fa_25_assesment_duke'",
     "output_type": "error",
     "traceback": [
      "\u001B[31m---------------------------------------------------------------------------\u001B[39m",
      "\u001B[31mModuleNotFoundError\u001B[39m                       Traceback (most recent call last)",
      "\u001B[36mCell\u001B[39m\u001B[36m \u001B[39m\u001B[32mIn[28]\u001B[39m\u001B[32m, line 6\u001B[39m\n\u001B[32m      3\u001B[39m \u001B[38;5;28;01mimport\u001B[39;00m\u001B[38;5;250m \u001B[39m\u001B[34;01mnumpy\u001B[39;00m\u001B[38;5;250m \u001B[39m\u001B[38;5;28;01mas\u001B[39;00m\u001B[38;5;250m \u001B[39m\u001B[34;01mnp\u001B[39;00m\n\u001B[32m      4\u001B[39m \u001B[38;5;28;01mimport\u001B[39;00m\u001B[38;5;250m \u001B[39m\u001B[34;01mwarnings\u001B[39;00m\n\u001B[32m----> \u001B[39m\u001B[32m6\u001B[39m \u001B[38;5;28;01mfrom\u001B[39;00m\u001B[38;5;250m \u001B[39m\u001B[34;01mProjects\u001B[39;00m\u001B[34;01m.\u001B[39;00m\u001B[34;01mAssesment\u001B[39;00m\u001B[34;01m.\u001B[39;00m\u001B[34;01mcompleted_nusa_fa_25_assesment_duke\u001B[39;00m\u001B[38;5;250m \u001B[39m\u001B[38;5;28;01mimport\u001B[39;00m end_date\n\u001B[32m      8\u001B[39m warnings.filterwarnings(\u001B[33m'\u001B[39m\u001B[33mignore\u001B[39m\u001B[33m'\u001B[39m)\n",
      "\u001B[31mModuleNotFoundError\u001B[39m: No module named 'Projects.Assesment.completed_nusa_fa_25_assesment_duke'"
     ]
    }
   ],
   "execution_count": 28
  },
  {
   "metadata": {},
   "cell_type": "markdown",
   "source": "## Data Collection",
   "id": "a123d4f5196f0d4b"
  },
  {
   "metadata": {
    "ExecuteTime": {
     "end_time": "2025-10-24T17:57:21.052954Z",
     "start_time": "2025-10-24T17:57:19.115883Z"
    }
   },
   "cell_type": "code",
   "source": [
    "tickers = ['TSM', 'NVDA', 'AMD', 'INTC', 'ORCL']\n",
    "start_date = '2024-10-23'\n",
    "end_date = '2025-10-23'\n",
    "\n",
    "def get_ticker_data(ticker, start_date, end_date):\n",
    "    '''\n",
    "    Collects daily data for a tickers and returns a dataframe of\n",
    "    it.\n",
    "\n",
    "    :param ticker: String of a ticker (ex: '^GSPC')\n",
    "    :param: start_date: start date String in format 'YYYY-MM-DD'\n",
    "    :param: end_date: end date String in format 'YYYY-MM-DD'\n",
    "\n",
    "    :return: df (pd.Dataframe) of the data for that ticker on YTD data\n",
    "    '''\n",
    "    try:\n",
    "        # Only really need Open & Close to get daily_returns\n",
    "        data = yf.download(ticker, start=start_date, end=end_date, progress=False)[['Open', 'Close']]\n",
    "    except Exception:\n",
    "        return f\"Data collection failed for {ticker} from {start_date} to {end_date}\"\n",
    "\n",
    "    return data\n",
    "\n",
    "# Test\n",
    "# print(get_ticker_data('^GSPC', '2025-01-06', '2025-10-22').droplevel(1, axis=1))\n",
    "\n",
    "def get_tickers_data(tickers, start_date, end_date):\n",
    "    '''\n",
    "    Iterates through a list of tickers and returns a dictionary of dataframes for it.\n",
    "\n",
    "    :param tickers: list of Strings of tickers ex: '^GSPC', 'TSMC'\n",
    "    :param: start_date: start date String in format 'YYYY-MM-DD'\n",
    "    :param: end_date: end date String in format 'YYYY-MM-DD'\n",
    "\n",
    "    :return: dictionary of DataFrames connected to the ticker\n",
    "    '''\n",
    "    ticker_dict = {}\n",
    "    try:\n",
    "        for ticker in tickers:\n",
    "            ticker_dict[ticker] = get_ticker_data(ticker, start_date, end_date)\n",
    "    except Exception:\n",
    "        return f\"Data collection failed for {tickers} from {start_date} to {end_date}\"\n",
    "\n",
    "    return ticker_dict\n",
    "\n",
    "data_dict = get_tickers_data(tickers, start_date, end_date)\n",
    "print(data_dict)"
   ],
   "id": "304635b7609ac422",
   "outputs": [
    {
     "name": "stdout",
     "output_type": "stream",
     "text": [
      "{'TSM': Price             Open       Close\n",
      "Ticker             TSM         TSM\n",
      "Date                              \n",
      "2024-10-23  194.584991  198.720474\n",
      "2024-10-24  196.840713  195.821671\n",
      "2024-10-25  198.116987  201.273010\n",
      "2024-10-28  197.137525  192.606308\n",
      "2024-10-29  192.319398  194.842239\n",
      "...                ...         ...\n",
      "2025-10-16  310.929993  299.839996\n",
      "2025-10-17  298.399994  295.079987\n",
      "2025-10-20  300.000000  297.700012\n",
      "2025-10-21  299.000000  294.510010\n",
      "2025-10-22  293.000000  288.880005\n",
      "\n",
      "[250 rows x 2 columns], 'NVDA': Price             Open       Close\n",
      "Ticker            NVDA        NVDA\n",
      "Date                              \n",
      "2024-10-23  141.989282  139.519989\n",
      "2024-10-24  140.779637  140.369751\n",
      "2024-10-25  140.889594  141.499420\n",
      "2024-10-28  142.959021  140.479736\n",
      "2024-10-29  140.249772  141.209503\n",
      "...                ...         ...\n",
      "2025-10-16  182.229996  181.809998\n",
      "2025-10-17  180.179993  183.220001\n",
      "2025-10-20  183.130005  182.639999\n",
      "2025-10-21  182.789993  181.160004\n",
      "2025-10-22  181.139999  180.279999\n",
      "\n",
      "[250 rows x 2 columns], 'AMD': Price             Open       Close\n",
      "Ticker             AMD         AMD\n",
      "Date                              \n",
      "2024-10-23  153.000000  152.910004\n",
      "2024-10-24  154.740005  153.440002\n",
      "2024-10-25  155.399994  156.229996\n",
      "2024-10-28  158.500000  159.919998\n",
      "2024-10-29  161.100006  166.250000\n",
      "...                ...         ...\n",
      "2025-10-16  236.289993  234.559998\n",
      "2025-10-17  233.259995  233.080002\n",
      "2025-10-20  236.470001  240.559998\n",
      "2025-10-21  239.389999  238.029999\n",
      "2025-10-22  236.850006  230.229996\n",
      "\n",
      "[250 rows x 2 columns], 'INTC': Price            Open      Close\n",
      "Ticker           INTC       INTC\n",
      "Date                            \n",
      "2024-10-23  22.299999  21.980000\n",
      "2024-10-24  22.090000  22.340000\n",
      "2024-10-25  22.420000  22.680000\n",
      "2024-10-28  22.670000  22.920000\n",
      "2024-10-29  22.870001  22.900000\n",
      "...               ...        ...\n",
      "2025-10-16  37.150002  36.840000\n",
      "2025-10-17  36.360001  37.009998\n",
      "2025-10-20  37.570000  38.099998\n",
      "2025-10-21  38.139999  38.119999\n",
      "2025-10-22  37.840000  36.919998\n",
      "\n",
      "[250 rows x 2 columns], 'ORCL': Price             Open       Close\n",
      "Ticker            ORCL        ORCL\n",
      "Date                              \n",
      "2024-10-23  172.781470  171.395264\n",
      "2024-10-24  171.613085  172.662643\n",
      "2024-10-25  173.058697  171.811111\n",
      "2024-10-28  172.335891  170.721939\n",
      "2024-10-29  170.593213  171.721985\n",
      "...                ...         ...\n",
      "2025-10-16  305.600006  313.000000\n",
      "2025-10-17  303.750000  291.309998\n",
      "2025-10-20  288.950012  277.179993\n",
      "2025-10-21  278.109985  275.149994\n",
      "2025-10-22  274.820007  272.660004\n",
      "\n",
      "[250 rows x 2 columns]}\n"
     ]
    }
   ],
   "execution_count": 29
  },
  {
   "metadata": {},
   "cell_type": "markdown",
   "source": "## Data Cleaning",
   "id": "2f123350bf7d0e2f"
  },
  {
   "metadata": {
    "ExecuteTime": {
     "end_time": "2025-10-24T17:57:18.138292Z",
     "start_time": "2025-10-24T17:51:57.779828Z"
    }
   },
   "cell_type": "code",
   "source": "# Here we want to clean the data so drop the multilevel columns, verify data, ensure no missing data\n",
   "id": "e27fdf4f44afee86",
   "outputs": [
    {
     "ename": "SyntaxError",
     "evalue": "unmatched '}' (1524963835.py, line 1)",
     "output_type": "error",
     "traceback": [
      "  \u001B[36mCell\u001B[39m\u001B[36m \u001B[39m\u001B[32mIn[22]\u001B[39m\u001B[32m, line 1\u001B[39m\n\u001B[31m    \u001B[39m\u001B[31m}\u001B[39m\n    ^\n\u001B[31mSyntaxError\u001B[39m\u001B[31m:\u001B[39m unmatched '}'\n"
     ]
    }
   ],
   "execution_count": 22
  }
 ],
 "metadata": {
  "kernelspec": {
   "display_name": "Python 3",
   "language": "python",
   "name": "python3"
  },
  "language_info": {
   "codemirror_mode": {
    "name": "ipython",
    "version": 2
   },
   "file_extension": ".py",
   "mimetype": "text/x-python",
   "name": "python",
   "nbconvert_exporter": "python",
   "pygments_lexer": "ipython2",
   "version": "2.7.6"
  }
 },
 "nbformat": 4,
 "nbformat_minor": 5
}
