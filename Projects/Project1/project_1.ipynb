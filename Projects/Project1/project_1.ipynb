{
 "cells": [
  {
   "metadata": {},
   "cell_type": "markdown",
   "source": "## Libraries & necessary pre-code",
   "id": "eca3b0ace31a4391"
  },
  {
   "metadata": {
    "ExecuteTime": {
     "end_time": "2025-10-26T17:12:19.625405Z",
     "start_time": "2025-10-26T17:12:19.622265Z"
    }
   },
   "cell_type": "code",
   "source": [
    "import yfinance as yf\n",
    "import pandas as pd\n",
    "import numpy as np\n",
    "import warnings\n",
    "\n",
    "warnings.filterwarnings('ignore')"
   ],
   "id": "ef6991ae642062af",
   "outputs": [],
   "execution_count": 6
  },
  {
   "metadata": {},
   "cell_type": "markdown",
   "source": "## Data Collection",
   "id": "a123d4f5196f0d4b"
  },
  {
   "metadata": {
    "ExecuteTime": {
     "end_time": "2025-10-26T17:12:21.038465Z",
     "start_time": "2025-10-26T17:12:20.920509Z"
    }
   },
   "cell_type": "code",
   "source": [
    "tickers = ['TSM', 'NVDA', 'AMD', 'INTC', 'ORCL']\n",
    "start_date = '2024-10-23'\n",
    "end_date = '2025-10-23'\n",
    "\n",
    "def get_ticker_data(ticker, start_date, end_date):\n",
    "    '''\n",
    "    Collects daily data for a tickers and returns a dataframe of\n",
    "    it (without multilevel columns)\n",
    "\n",
    "    :param ticker: String of a ticker (ex: '^GSPC')\n",
    "    :param: start_date: start date String in format 'YYYY-MM-DD'\n",
    "    :param: end_date: end date String in format 'YYYY-MM-DD'\n",
    "\n",
    "    :return: df (pd.Dataframe) of the data for that ticker on YTD data\n",
    "    '''\n",
    "    try:\n",
    "        # Only really need Open & Close to get daily_returns, and don't need Ticker in the data (drop it)\n",
    "        data = yf.download(ticker, start=start_date, end=end_date, progress=False)[['Open', 'Close']].droplevel(1, axis=1)\n",
    "    except Exception:\n",
    "        return f\"Data collection failed for {ticker} from {start_date} to {end_date}\"\n",
    "\n",
    "    return data\n",
    "\n",
    "# Test\n",
    "# print(get_ticker_data('^GSPC', '2025-01-06', '2025-10-22').droplevel(1, axis=1))\n",
    "\n",
    "def get_tickers_data(tickers, start_date, end_date):\n",
    "    '''\n",
    "    Iterates through a list of tickers and returns a dictionary of dataframes for it.\n",
    "\n",
    "    :param tickers: list of Strings of tickers ex: '^GSPC', 'TSMC'\n",
    "    :param: start_date: start date String in format 'YYYY-MM-DD'\n",
    "    :param: end_date: end date String in format 'YYYY-MM-DD'\n",
    "\n",
    "    :return: dictionary of DataFrames connected to the ticker\n",
    "    '''\n",
    "    ticker_dict = {}\n",
    "    try:\n",
    "        for ticker in tickers:\n",
    "            ticker_dict[ticker] = get_ticker_data(ticker, start_date, end_date)\n",
    "    except Exception:\n",
    "        return f\"Data collection failed for {tickers} from {start_date} to {end_date}\"\n",
    "\n",
    "    return ticker_dict\n",
    "\n",
    "data_dict = get_tickers_data(tickers, start_date, end_date)\n",
    "\n",
    "# Save to csv\n",
    "for ticker in data_dict:\n",
    "    data_dict[ticker].to_csv(f'{ticker}_data.csv')\n",
    "\n",
    "# Test\n",
    "data_dict"
   ],
   "id": "304635b7609ac422",
   "outputs": [
    {
     "data": {
      "text/plain": [
       "{'TSM': Price             Open       Close\n",
       " Date                              \n",
       " 2024-10-23  194.584991  198.720474\n",
       " 2024-10-24  196.840728  195.821686\n",
       " 2024-10-25  198.116987  201.273010\n",
       " 2024-10-28  197.137525  192.606308\n",
       " 2024-10-29  192.319398  194.842239\n",
       " ...                ...         ...\n",
       " 2025-10-16  310.929993  299.839996\n",
       " 2025-10-17  298.399994  295.079987\n",
       " 2025-10-20  300.000000  297.700012\n",
       " 2025-10-21  299.000000  294.510010\n",
       " 2025-10-22  293.000000  288.880005\n",
       " \n",
       " [250 rows x 2 columns],\n",
       " 'NVDA': Price             Open       Close\n",
       " Date                              \n",
       " 2024-10-23  141.989282  139.519989\n",
       " 2024-10-24  140.779637  140.369751\n",
       " 2024-10-25  140.889594  141.499420\n",
       " 2024-10-28  142.959021  140.479736\n",
       " 2024-10-29  140.249772  141.209503\n",
       " ...                ...         ...\n",
       " 2025-10-16  182.229996  181.809998\n",
       " 2025-10-17  180.179993  183.220001\n",
       " 2025-10-20  183.130005  182.639999\n",
       " 2025-10-21  182.789993  181.160004\n",
       " 2025-10-22  181.139999  180.279999\n",
       " \n",
       " [250 rows x 2 columns],\n",
       " 'AMD': Price             Open       Close\n",
       " Date                              \n",
       " 2024-10-23  153.000000  152.910004\n",
       " 2024-10-24  154.740005  153.440002\n",
       " 2024-10-25  155.399994  156.229996\n",
       " 2024-10-28  158.500000  159.919998\n",
       " 2024-10-29  161.100006  166.250000\n",
       " ...                ...         ...\n",
       " 2025-10-16  236.289993  234.559998\n",
       " 2025-10-17  233.259995  233.080002\n",
       " 2025-10-20  236.470001  240.559998\n",
       " 2025-10-21  239.389999  238.029999\n",
       " 2025-10-22  236.850006  230.229996\n",
       " \n",
       " [250 rows x 2 columns],\n",
       " 'INTC': Price            Open      Close\n",
       " Date                            \n",
       " 2024-10-23  22.299999  21.980000\n",
       " 2024-10-24  22.090000  22.340000\n",
       " 2024-10-25  22.420000  22.680000\n",
       " 2024-10-28  22.670000  22.920000\n",
       " 2024-10-29  22.870001  22.900000\n",
       " ...               ...        ...\n",
       " 2025-10-16  37.150002  36.840000\n",
       " 2025-10-17  36.360001  37.009998\n",
       " 2025-10-20  37.570000  38.099998\n",
       " 2025-10-21  38.139999  38.119999\n",
       " 2025-10-22  37.840000  36.919998\n",
       " \n",
       " [250 rows x 2 columns],\n",
       " 'ORCL': Price             Open       Close\n",
       " Date                              \n",
       " 2024-10-23  172.781455  171.395248\n",
       " 2024-10-24  171.613085  172.662643\n",
       " 2024-10-25  173.058697  171.811111\n",
       " 2024-10-28  172.335906  170.721954\n",
       " 2024-10-29  170.593228  171.722000\n",
       " ...                ...         ...\n",
       " 2025-10-16  305.600006  313.000000\n",
       " 2025-10-17  303.750000  291.309998\n",
       " 2025-10-20  288.950012  277.179993\n",
       " 2025-10-21  278.109985  275.149994\n",
       " 2025-10-22  274.820007  272.660004\n",
       " \n",
       " [250 rows x 2 columns]}"
      ]
     },
     "execution_count": 7,
     "metadata": {},
     "output_type": "execute_result"
    }
   ],
   "execution_count": 7
  },
  {
   "metadata": {},
   "cell_type": "markdown",
   "source": "## Data Cleaning",
   "id": "2f123350bf7d0e2f"
  },
  {
   "metadata": {
    "ExecuteTime": {
     "end_time": "2025-10-26T17:11:51.972573Z",
     "start_time": "2025-10-24T21:38:54.632170Z"
    }
   },
   "cell_type": "code",
   "source": [
    "# Here we want to clean the data so drop the multilevel columns, verify data, ensure no missing data\n",
    "\n",
    "# First, check data (see if any missing)\n",
    "# I think this is the only check we need as yFinance has consistent dating data, naming, pricing (don't have to worry about type mismatch or other trivial items)\n",
    "def handle_nan(ticker_df):\n",
    "    '''\n",
    "    Checks whether the number of missing values is > 0, and if so then use dropna() to clean\n",
    "\n",
    "    :param ticker_df: the ticker's Data in a pd.DataFrame\n",
    "    :return: the corrected (or unmodified) dataframe\n",
    "    '''\n",
    "    # If >, there's missing\n",
    "    if ticker_df.isnull().sum().any():\n",
    "        print(f\"Missing vals: {ticker_df.isnull().sum().all()}\")\n",
    "        ticker_df = ticker_df.dropna()\n",
    "\n",
    "    return ticker_df\n",
    "\n",
    "# Run it for all our stocks\n",
    "for ticker in data_dict:\n",
    "    data_dict[ticker] = handle_nan(data_dict[ticker])\n",
    "    # Didn't print, so that mean's there's no NaNs"
   ],
   "id": "e27fdf4f44afee86",
   "outputs": [],
   "execution_count": 50
  },
  {
   "metadata": {},
   "cell_type": "markdown",
   "source": "## Feature Engineering\n",
   "id": "c06d04618738078d"
  },
  {
   "metadata": {},
   "cell_type": "code",
   "outputs": [],
   "execution_count": null,
   "source": "# Daily returns\n",
   "id": "52c9e10a3800cc38"
  }
 ],
 "metadata": {
  "kernelspec": {
   "display_name": "Python 3",
   "language": "python",
   "name": "python3"
  },
  "language_info": {
   "codemirror_mode": {
    "name": "ipython",
    "version": 2
   },
   "file_extension": ".py",
   "mimetype": "text/x-python",
   "name": "python",
   "nbconvert_exporter": "python",
   "pygments_lexer": "ipython2",
   "version": "2.7.6"
  }
 },
 "nbformat": 4,
 "nbformat_minor": 5
}
